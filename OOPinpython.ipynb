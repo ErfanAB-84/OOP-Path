{
 "cells": [
  {
   "cell_type": "markdown",
   "id": "b9f3a9a7",
   "metadata": {},
   "source": [
    "# OOP-Object Oriented Programming-Distro"
   ]
  },
  {
   "cell_type": "markdown",
   "id": "9e2f7a25",
   "metadata": {},
   "source": [
    "this is a class you can see this doct : https://realpython.com/python3-object-oriented-programming\n"
   ]
  },
  {
   "cell_type": "code",
   "execution_count": 12,
   "id": "19574a5b",
   "metadata": {},
   "outputs": [],
   "source": [
    "class cat:\n",
    "    #this is class attributes\n",
    "    WhatIsCat = \"cat is a animal.\"\n",
    "    #name , age , color \n",
    "    #this is properties\n",
    "    def __init__(self , name , age , color):\n",
    "        self.name = name\n",
    "        self.age = age\n",
    "        self.color = color\n",
    "        #this is instance attributes"
   ]
  },
  {
   "cell_type": "markdown",
   "id": "d9d2562b",
   "metadata": {},
   "source": [
    "When we modify a class attribute, it means that the value of all class instances in this attribute is the same. see:https://en.wikipedia.org/wiki/Resource_Description_Framework"
   ]
  },
  {
   "cell_type": "code",
   "execution_count": 13,
   "id": "5c1b4b37",
   "metadata": {},
   "outputs": [],
   "source": [
    "jimy = cat(\"jimy\",\"5years\",\"black\")"
   ]
  },
  {
   "cell_type": "markdown",
   "id": "8c8311fb",
   "metadata": {},
   "source": [
    "this is a instance from cat class"
   ]
  },
  {
   "cell_type": "code",
   "execution_count": 14,
   "id": "a23d7e1a",
   "metadata": {},
   "outputs": [
    {
     "data": {
      "text/plain": [
       "'cat is a animal.'"
      ]
     },
     "execution_count": 14,
     "metadata": {},
     "output_type": "execute_result"
    }
   ],
   "source": [
    "#this is a class attribute\n",
    "jimy.WhatIsCat"
   ]
  },
  {
   "cell_type": "code",
   "execution_count": 15,
   "id": "8990a51c",
   "metadata": {},
   "outputs": [],
   "source": [
    "hany = cat(\"heny\",\"3years\",\"red\")"
   ]
  },
  {
   "cell_type": "markdown",
   "id": "90ba537f",
   "metadata": {},
   "source": [
    "new instance*"
   ]
  },
  {
   "cell_type": "code",
   "execution_count": 16,
   "id": "9928b936",
   "metadata": {},
   "outputs": [
    {
     "data": {
      "text/plain": [
       "'cat is a animal.'"
      ]
     },
     "execution_count": 16,
     "metadata": {},
     "output_type": "execute_result"
    }
   ],
   "source": [
    "jimy.WhatIsCat\n",
    "hany.WhatIsCat"
   ]
  },
  {
   "cell_type": "markdown",
   "id": "18fb1908",
   "metadata": {},
   "source": [
    "# __str__ methode in class"
   ]
  },
  {
   "cell_type": "code",
   "execution_count": 27,
   "id": "2adeb715",
   "metadata": {},
   "outputs": [],
   "source": [
    "class Dog:\n",
    "    def __init__(self,name,age):\n",
    "        self.namedog = name\n",
    "        self.agedog = age\n",
    "        #this attribute\n",
    "    def __str__(self):\n",
    "        return f\"{self.namedog} is {self.agedog} years old\""
   ]
  },
  {
   "cell_type": "code",
   "execution_count": 28,
   "id": "a637e637",
   "metadata": {},
   "outputs": [],
   "source": [
    "pwd = Dog(\"tom\",13)"
   ]
  },
  {
   "cell_type": "code",
   "execution_count": 30,
   "id": "b6a32920",
   "metadata": {},
   "outputs": [
    {
     "name": "stdout",
     "output_type": "stream",
     "text": [
      "tom is 13 years old\n"
     ]
    }
   ],
   "source": [
    "print(pwd)"
   ]
  },
  {
   "cell_type": "markdown",
   "id": "40eb3a3b",
   "metadata": {},
   "source": [
    "Methods like .__init__() and .__str__() are called dunder methods because they begin and end with double underscores."
   ]
  },
  {
   "cell_type": "markdown",
   "id": "750018e2",
   "metadata": {},
   "source": [
    "There are many dunder methods that you can use to customize classes in Python. Although too advanced a topic for a beginning Python book, understanding dunder methods is an important part of mastering object-oriented programming in Python.\n",
    "\n"
   ]
  },
  {
   "cell_type": "markdown",
   "id": "a1e41afa",
   "metadata": {},
   "source": [
    "from:https://realpython.com/python3-object-oriented-programming\n"
   ]
  },
  {
   "cell_type": "markdown",
   "id": "5eaf180b",
   "metadata": {},
   "source": [
    "Basics OOP in python,, hope your Enjoy:;))"
   ]
  },
  {
   "cell_type": "markdown",
   "id": "dc5b94e8",
   "metadata": {},
   "source": [
    "mehranAlamBeigi,from Distrotv\n",
    "\n",
    "twitter:https://twitter.com/mehranalambeigi\n",
    "\n",
    "telegram:https://t.me/distrotv\n",
    "\n",
    "web:http://distroblog.ir\n",
    "\n",
    "Donate:https://paypal.me/mehranalambeigi"
   ]
  },
  {
   "cell_type": "code",
   "execution_count": null,
   "id": "d77cdb2e",
   "metadata": {},
   "outputs": [],
   "source": []
  }
 ],
 "metadata": {
  "kernelspec": {
   "display_name": "Python 3",
   "language": "python",
   "name": "python3"
  },
  "language_info": {
   "codemirror_mode": {
    "name": "ipython",
    "version": 3
   },
   "file_extension": ".py",
   "mimetype": "text/x-python",
   "name": "python",
   "nbconvert_exporter": "python",
   "pygments_lexer": "ipython3",
   "version": "3.8.6"
  }
 },
 "nbformat": 4,
 "nbformat_minor": 5
}
