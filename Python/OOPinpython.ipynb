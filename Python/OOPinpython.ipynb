{
 "cells": [
  {
   "cell_type": "markdown",
   "metadata": {},
   "source": [
    "# OOP-Object Oriented Programming-Distro"
   ]
  },
  {
   "cell_type": "markdown",
   "metadata": {},
   "source": [
    "this is a class you can see this doct : https://realpython.com/python3-object-oriented-programming\n"
   ]
  },
  {
   "cell_type": "code",
   "execution_count": 12,
   "metadata": {},
   "outputs": [],
   "source": [
    "class cat:\n",
    "    #this is class attributes\n",
    "    WhatIsCat = \"cat is a animal.\"\n",
    "    #name , age , color \n",
    "    #this is properties\n",
    "    def __init__(self , name , age , color):\n",
    "        self.name = name\n",
    "        self.age = age\n",
    "        self.color = color\n",
    "        #this is instance attributes"
   ]
  },
  {
   "cell_type": "markdown",
   "metadata": {},
   "source": [
    "When we modify a class attribute, it means that the value of all class instances in this attribute is the same. see:https://en.wikipedia.org/wiki/Resource_Description_Framework"
   ]
  },
  {
   "cell_type": "code",
   "execution_count": 13,
   "metadata": {},
   "outputs": [],
   "source": [
    "jimy = cat(\"jimy\",\"5years\",\"black\")"
   ]
  },
  {
   "cell_type": "markdown",
   "metadata": {},
   "source": [
    "this is a instance from cat class"
   ]
  },
  {
   "cell_type": "code",
   "execution_count": 14,
   "metadata": {},
   "outputs": [
    {
     "data": {
      "text/plain": [
       "'cat is a animal.'"
      ]
     },
     "execution_count": 14,
     "metadata": {},
     "output_type": "execute_result"
    }
   ],
   "source": [
    "#this is a class attribute\n",
    "jimy.WhatIsCat"
   ]
  },
  {
   "cell_type": "code",
   "execution_count": 15,
   "metadata": {},
   "outputs": [],
   "source": [
    "hany = cat(\"heny\",\"3years\",\"red\")"
   ]
  },
  {
   "cell_type": "markdown",
   "metadata": {},
   "source": [
    "new instance*"
   ]
  },
  {
   "cell_type": "code",
   "execution_count": 16,
   "metadata": {},
   "outputs": [
    {
     "data": {
      "text/plain": [
       "'cat is a animal.'"
      ]
     },
     "execution_count": 16,
     "metadata": {},
     "output_type": "execute_result"
    }
   ],
   "source": [
    "jimy.WhatIsCat\n",
    "hany.WhatIsCat"
   ]
  },
  {
   "cell_type": "markdown",
   "metadata": {},
   "source": [
    "# __str__ methode in class"
   ]
  },
  {
   "cell_type": "code",
   "execution_count": 27,
   "metadata": {},
   "outputs": [],
   "source": [
    "class Dog:\n",
    "    def __init__(self,name,age):\n",
    "        self.namedog = name\n",
    "        self.agedog = age\n",
    "        #this attribute\n",
    "    def __str__(self):\n",
    "        return f\"{self.namedog} is {self.agedog} years old\""
   ]
  },
  {
   "cell_type": "code",
   "execution_count": 28,
   "metadata": {},
   "outputs": [],
   "source": [
    "pwd = Dog(\"tom\",13)"
   ]
  },
  {
   "cell_type": "code",
   "execution_count": 30,
   "metadata": {},
   "outputs": [
    {
     "name": "stdout",
     "output_type": "stream",
     "text": [
      "tom is 13 years old\n"
     ]
    }
   ],
   "source": [
    "print(pwd)"
   ]
  },
  {
   "cell_type": "markdown",
   "metadata": {},
   "source": [
    "Methods like .__init__() and .__str__() are called dunder methods because they begin and end with double underscores."
   ]
  },
  {
   "cell_type": "markdown",
   "metadata": {},
   "source": [
    "# inheritance in class"
   ]
  },
  {
   "cell_type": "markdown",
   "metadata": {},
   "source": [
    "Sometimes we create multiple classes in the programs we write that have common features. In these cases, in order to write a cleaner program, we create a comprehensive class and then inherit the other classes from the comprehensive class we created."
   ]
  },
  {
   "cell_type": "code",
   "execution_count": 1,
   "metadata": {},
   "outputs": [],
   "source": [
    "class Animal():\n",
    "    def __init__(self, name, age, color):\n",
    "        self.name = name\n",
    "        self.age = age\n",
    "        self.color = color\n",
    "    def __str__(self):\n",
    "        return f\"{self.name} is {self.age} years old and its color is {self.color}\"\n",
    "    \n",
    "class Fox(Animal):\n",
    "    pass\n",
    "    \n",
    "class Bird(Animal):\n",
    "    pass"
   ]
  },
  {
   "cell_type": "code",
   "execution_count": 5,
   "metadata": {},
   "outputs": [],
   "source": [
    "LA = Fox(\"lara\", 5, \"red\")\n",
    "bd = Bird(\"Chik\", 4, \"white\")"
   ]
  },
  {
   "cell_type": "code",
   "execution_count": 8,
   "metadata": {},
   "outputs": [
    {
     "name": "stdout",
     "output_type": "stream",
     "text": [
      "Bird info --> Chik is 4 years old and its color is white\n",
      "fox info --> lara is 5 years old and its color is red\n"
     ]
    }
   ],
   "source": [
    "print(f\"Bird info --> {bd}\\nfox info --> {LA}\")"
   ]
  },
  {
   "cell_type": "markdown",
   "metadata": {},
   "source": [
    "There are many dunder methods that you can use to customize classes in Python. Although too advanced a topic for a beginning Python book, understanding dunder methods is an important part of mastering object-oriented programming in Python.\n",
    "\n"
   ]
  },
  {
   "cell_type": "markdown",
   "metadata": {},
   "source": [
    "from:https://realpython.com/python3-object-oriented-programming\n"
   ]
  },
  {
   "cell_type": "markdown",
   "metadata": {},
   "source": [
    "Basics OOP in python,, hope your Enjoy:;))"
   ]
  },
  {
   "cell_type": "markdown",
   "metadata": {},
   "source": [
    "mehranAlamBeigi,from Distrotv\n",
    "\n",
    "twitter:https://twitter.com/mehranalambeigi\n",
    "\n",
    "telegram:https://t.me/distrotv\n",
    "\n",
    "web:http://distroblog.ir\n",
    "\n",
    "Donate:https://paypal.me/mehranalambeigi"
   ]
  },
  {
   "cell_type": "code",
   "execution_count": null,
   "metadata": {},
   "outputs": [],
   "source": []
  }
 ],
 "metadata": {
  "kernelspec": {
   "display_name": "Python 3",
   "language": "python",
   "name": "python3"
  },
  "language_info": {
   "codemirror_mode": {
    "name": "ipython",
    "version": 3
   },
   "file_extension": ".py",
   "mimetype": "text/x-python",
   "name": "python",
   "nbconvert_exporter": "python",
   "pygments_lexer": "ipython3",
   "version": "3.9.0"
  }
 },
 "nbformat": 4,
 "nbformat_minor": 5
}
